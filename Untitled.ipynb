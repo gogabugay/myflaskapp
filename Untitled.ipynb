{
 "cells": [
  {
   "cell_type": "code",
   "execution_count": 1,
   "metadata": {},
   "outputs": [
    {
     "name": "stdout",
     "output_type": "stream",
     "text": [
      "<class '__main__.MyClass'>\n",
      "<class 'type'>\n"
     ]
    }
   ],
   "source": [
    "class MyClass:\n",
    "    a= 10\n",
    "    def func(self):\n",
    "        print('Hello')\n",
    "x=MyClass()\n",
    "print(type(x))\n",
    "print(type(MyClass))"
   ]
  },
  {
   "cell_type": "code",
   "execution_count": 5,
   "metadata": {},
   "outputs": [],
   "source": [
    "class Counter:\n",
    "    pass\n",
    "Counter\n",
    "x=Counter()\n",
    "x.count=0\n",
    "x.count+=1\n"
   ]
  },
  {
   "cell_type": "code",
   "execution_count": 6,
   "metadata": {},
   "outputs": [
    {
     "name": "stdout",
     "output_type": "stream",
     "text": [
      "Hi! How are you?\n"
     ]
    }
   ],
   "source": [
    "class Person:\n",
    "    def sayHi(self):\n",
    "        print('Hi! How are you?')\n",
    "p=Person()\n",
    "p.sayHi()"
   ]
  },
  {
   "cell_type": "code",
   "execution_count": 7,
   "metadata": {},
   "outputs": [
    {
     "name": "stdout",
     "output_type": "stream",
     "text": [
      "0\n"
     ]
    }
   ],
   "source": [
    "class Counter:\n",
    "    def __init__(self):\n",
    "        self.count=0\n",
    "Counter\n",
    "x=Counter()\n",
    "print(x.count)\n",
    "x.count+=1"
   ]
  },
  {
   "cell_type": "code",
   "execution_count": 8,
   "metadata": {},
   "outputs": [
    {
     "data": {
      "text/plain": [
       "<bound method Counter.inc of <__main__.Counter object at 0x7fb170502780>>"
      ]
     },
     "execution_count": 8,
     "metadata": {},
     "output_type": "execute_result"
    }
   ],
   "source": [
    "class Counter:\n",
    "    def __init__(self):\n",
    "        self.count=0\n",
    "    def inc(self):\n",
    "        self.count+=1\n",
    "    def reset(self):\n",
    "        self.count=0\n",
    "Counter\n",
    "x=Counter()\n",
    "x.inc"
   ]
  },
  {
   "cell_type": "code",
   "execution_count": 9,
   "metadata": {},
   "outputs": [
    {
     "name": "stdout",
     "output_type": "stream",
     "text": [
      "2\n",
      "4\n",
      "4\n"
     ]
    }
   ],
   "source": [
    "class A:\n",
    "    def __init__(self, val=0):\n",
    "        self.val = val\n",
    "\n",
    "    def add(self, x):\n",
    "        self.val += x\n",
    "\n",
    "    def print_val(self):\n",
    "        print(self.val)\n",
    "\n",
    "\n",
    "a = A()\n",
    "b = A(2)\n",
    "c = A(4)\n",
    "a.add(2)\n",
    "b.add(2)\n",
    "\n",
    "a.print_val()\n",
    "b.print_val()\n",
    "c.print_val()"
   ]
  },
  {
   "cell_type": "code",
   "execution_count": null,
   "metadata": {},
   "outputs": [],
   "source": []
  }
 ],
 "metadata": {
  "kernelspec": {
   "display_name": "Python 3",
   "language": "python",
   "name": "python3"
  },
  "language_info": {
   "codemirror_mode": {
    "name": "ipython",
    "version": 3
   },
   "file_extension": ".py",
   "mimetype": "text/x-python",
   "name": "python",
   "nbconvert_exporter": "python",
   "pygments_lexer": "ipython3",
   "version": "3.6.3"
  }
 },
 "nbformat": 4,
 "nbformat_minor": 2
}
